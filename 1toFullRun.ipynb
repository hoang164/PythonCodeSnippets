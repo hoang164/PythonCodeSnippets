{
 "cells": [
  {
   "cell_type": "markdown",
   "metadata": {},
   "source": [
    "# This code converts 1.csv file, which contains date, time, force, angle ect.. data, to FullRun.csv. (with assigned images of Front, Top, rear, and Live views). This file is then ready to be opened in the HD_Marking_Tool for electrode location identification."
   ]
  },
  {
   "cell_type": "code",
   "execution_count": 1,
   "metadata": {},
   "outputs": [],
   "source": [
    "#import is important\n",
    "import os\n",
    "import re\n",
    "import pandas as pd\n",
    "import numpy as np"
   ]
  },
  {
   "cell_type": "code",
   "execution_count": 31,
   "metadata": {},
   "outputs": [
    {
     "name": "stdout",
     "output_type": "stream",
     "text": [
      "531\n"
     ]
    }
   ],
   "source": [
    "#d= 'D:\\Thuy Data Transfer\\CMUTvsPZT_Characterization\\DataWithScripts\\CMUT_Test_06Dec18_newCode\\BaseLineNoise_vs_JSRgain_Investigation_3_28_2019'\n",
    "d= 'D:\\Thuy Data Transfer\\CMUTvsPZT_Characterization\\DataWithScripts\\CMUT_Test_06Dec18_newCode\\Repeatability Test'\n",
    "directory= d\n",
    "os.listdir(directory)\n",
    "count=0\n",
    "for root, dir, files in os.walk(directory):\n",
    "    numfiles= len(files)\n",
    "    count=count+numfiles\n",
    "    \n",
    "print(count)"
   ]
  },
  {
   "cell_type": "code",
   "execution_count": 53,
   "metadata": {},
   "outputs": [
    {
     "name": "stdout",
     "output_type": "stream",
     "text": [
      "['40dB Gain TX Combine data.zip']\n",
      "['PZT_GE221_1mm_5mmAway_Gain20dB.JPG', 'PZT_GE2_0.6mm_5mmAway_Gain20dB.JPG', 'PZT_GE35_1.2mm_5mmAway_Gain20dB.JPG', 'Thumbs.db']\n",
      "['PP_Axis0.fig', 'PP_Axis0.jpg', 'PP_Axis1.fig', 'PP_Axis1.jpg', 'PP_Axis2.fig', 'PP_Axis2.jpg', 'PP_Axis3.fig', 'PP_Axis3.jpg', 'PP_Axis4.fig', 'PP_Axis4.jpg', 'RawDataAtBeginning.fig', 'Thumbs.db', 'TX_pzt_ge21_1mm_21Dec2018.mat']\n",
      "['TX', 'pzt', 'ge21', '1mm', '21Dec2018.mat']\n",
      "transmitting test\n",
      "PZT in keywords\n",
      "Maker is GE\n",
      "1mm\n"
     ]
    }
   ],
   "source": []
  },
  {
   "cell_type": "code",
   "execution_count": 2,
   "metadata": {
    "collapsed": true
   },
   "outputs": [],
   "source": [
    "#Check to see if front,live,rear,and top files are in the directory\n",
    "def ckdir (d):\n",
    "    directory= d\n",
    "    os.chdir(directory)\n",
    "    files= os.listdir('.')\n",
    "    picFiles={}\n",
    "    if 'Front' in files:\n",
    "        picFiles['Front']=os.listdir('Front')\n",
    "    else: \n",
    "        print(\"Couldn't find Front in {}\".format(directory))\n",
    "    if 'Live' in files:\n",
    "        picFiles['Live']=os.listdir('Live')\n",
    "    else:\n",
    "        print(\"Couldn't find Live in {}\".format(directory))    \n",
    "    if 'Rear' in files:\n",
    "        picFiles['Rear']=os.listdir('Rear')\n",
    "    else:\n",
    "        print(\"Couldn't find Rear in {}\".format(directory))   \n",
    "    if 'Top' in files:\n",
    "        picFiles['Top']=os.listdir('Top')\n",
    "    else:\n",
    "        print(\"Couldn't find Top in {}\".format(directory)) \n",
    "\n",
    "    #Sort the names in each folder\n",
    "    for n in \"Front Live Rear Top\".split():\n",
    "        fname= picFiles[n]\n",
    "        if not n in picFiles: print (\"oops \", n)\n",
    "        fPat= re.compile(n+'(\\d+).bmp')\n",
    "        fK= [ re.match (fPat,f) for f in fname ]\n",
    "        if not np.all (fK) : print (\"Trouble in {}, name of files does not match or at least one missing\".format (n))\n",
    "        fK = [ (int (m.group (1)), m.group (0)) for m in fK]\n",
    "        s= sorted(fK)\n",
    "        picFiles[n]= [ p[-1] for p in s ]   \n",
    "    \n",
    "    #search for csv files and number \n",
    "    allcsvfile=  [ filename for filename in files if filename.endswith( '.csv' ) ]\n",
    "    csvfile= allcsvfile[0]\n",
    "    serial= csvfile.split('.')[0]\n",
    "    os.chdir('..')\n",
    "    return picFiles, csvfile, serial"
   ]
  },
  {
   "cell_type": "code",
   "execution_count": 3,
   "metadata": {
    "collapsed": true
   },
   "outputs": [],
   "source": [
    "# for the newest data sets received after feb 2018 with all images uncropped plus rear and front images are equal\n",
    "def newpd (csv, picFiles, rD, serial):\n",
    "# Creating new column names corresponding with 4 electrodes on each strut and 2 on each shaft\n",
    "    xCols=[ ['Time','Time'], ['Gram Force SP', 'Fsp'],['Gram Force ACT','Fmeas'],]\n",
    "    for n in \"XY\": xCols.append([n+' Axis Pos', n+'pos' ])\n",
    "    for n in \"Theta Alpha\".split(): xCols.append([n+' Pos', n])\n",
    " \n",
    "    df= pd.read_csv (\"{}/{}\".format (rD, csv)) #read the csv file\n",
    "\n",
    "    cols= df.columns #columns\n",
    "    for sN in range(4): #4 struts\n",
    "        for eN in range(4): # 4electrodes\n",
    "            for cor in \"XY\": #Front strut\n",
    "                src= \"FSP{} E{} {}\".format(sN+1,sN*4+eN+1,cor)\n",
    "                if not src in cols: continue\n",
    "                xCols.append( [src, \"fs{}e{}{}\".format(sN+1,eN+1,cor.lower())])\n",
    "            for cor in \"XY\": #Top strut\n",
    "                src= \"Top E{} {}\".format(sN*4+eN+1,cor)\n",
    "                if not src in cols: continue\n",
    "                xCols.append( [src, \"ts{}e{}{}\".format(sN+1,eN+1,cor.lower())])\n",
    "            for cor in \"XY\": #Rear strut\n",
    "                src= \"RSP{} E{} {}\".format(sN+1,sN*4+eN+1,cor)\n",
    "                if not src in cols: continue\n",
    "                xCols.append( [src, \"rs{}e{}{}\".format(sN+1,eN+1,cor.lower())])\n",
    "\n",
    "    for eN in range(2): #shaft electrodes\n",
    "        for cor in \"XY\":#Front shaft\n",
    "            src= \"FShft E{} {}\".format(eN+1, cor)\n",
    "            if not src in  cols: continue\n",
    "            xCols.append([src, \"fshft{}{}\".format(eN+1, cor.lower())])\n",
    "        for cor in \"XY\":#Top shaft\n",
    "            src= \"Top Shft E{} {}\".format(eN+1, cor)\n",
    "            if not src in  cols: continue\n",
    "            xCols.append([src, \"tshft{}{}\".format(eN+1, cor.lower())])\n",
    "        for cor in \"XY\":#Rear shaft\n",
    "            src= \"RShft E{} {}\".format(eN+1, cor)\n",
    "            if not src in  cols: continue\n",
    "            xCols.append([src, \"rshft{}{}\".format(eN+1, cor.lower())])\n",
    "\n",
    "    nd= pd.DataFrame (df['Date']) #New dataframe\n",
    "    for x in xCols:\n",
    "        nd[x[1]]= df[x[0]] #assigning the values to the right columns\n",
    "    \n",
    "    #Creating new columns named Live, Top, Front and Rear and assign the .bmp pics in each row\n",
    "    for pic in \"Live Top Front Rear\".split() :\n",
    "        if len(picFiles[pic])== len(nd): \n",
    "            nd[pic]= picFiles[pic]\n",
    "        else:\n",
    "            print(\"lengths mismatch, check {} files and dataFrame lengths, {} pics vs {} lines\".format (pic, len(picFiles[pic]), len(nd)))\n",
    "            return []\n",
    "\n",
    "    #assigning Serial number:\n",
    "    if 'serial' in df.columns :\n",
    "        nd['serial'] = df['serial']\n",
    "    else :\n",
    "        nd['serial'] = serial\n",
    "    return nd"
   ]
  },
  {
   "cell_type": "code",
   "execution_count": null,
   "metadata": {
    "collapsed": true
   },
   "outputs": [],
   "source": []
  },
  {
   "cell_type": "code",
   "execution_count": 4,
   "metadata": {
    "collapsed": true
   },
   "outputs": [],
   "source": [
    "#Renaming files in the FullRun csv\n",
    "def renamePic (dir, nd):\n",
    "#dir= 'C:\\\\Users\\\\HoangT04\\\\Documents\\\\deform\\\\NewData\\\\20171030_s5'\n",
    "    #os.chdir(dir)\n",
    "    #allcsvfile=  [ filename for filename in os.listdir('.') if filename.endswith( '.csv' ) ]\n",
    "    #FullRun=  [ filename for filename in allcsvfile if filename.startswith( 'FullRun' ) ]\n",
    "    #csvfile= FullRun[0]\n",
    "    #df= pd.read_csv (\"{}/{}\".format (directory, csvfile))\n",
    "    newdf = nd.copy()\n",
    "    \n",
    "    for rx in range(0,len(newdf)):\n",
    "        row = newdf.iloc[rx]\n",
    "        month, date, year = row.Date.split ('/')\n",
    "        hour, minute, sec = row.Time.split (':')\n",
    "        stamp = \"{:04d}{:02d}{:02d}{:02d}{:02d}{:02d}\".format (int (year), int (month), int(date),int(hour), int(minute), int(sec) )    \n",
    "        for view in \"Front Top Rear Live\".split() :\n",
    "            oldName = row[view]\n",
    "            if (not oldName) or oldName == '0' : continue\n",
    "            fmat= re.compile(r'\\d+') \n",
    "            num = re.search(r'\\d+',oldName).group(0) #number in old file names, ex: Front230.bmp\n",
    "            newName = \"{:}{:}_{:}.bmp\".format (view, num, stamp) #ex:Front230_20171121100309\n",
    "            newdf.loc[rx,view]= newName #assigning new names into images in csv files\n",
    "            curdir= os.getcwd() #get current directory\n",
    "            filename= os.path.join(curdir, dir, view, oldName) #location of old file name\n",
    "            newfilename= os.path.join(curdir, dir, view, newName) #location of new file name\n",
    "            folderpath= os.path.join(curdir,dir, view)\n",
    "            if not oldName in os.listdir(folderpath): \n",
    "                print(oldName, 'not in folder: ', folderpath )\n",
    "                continue\n",
    "            os.rename (filename,newfilename) #change old names to new names\n",
    "    return newdf   "
   ]
  },
  {
   "cell_type": "code",
   "execution_count": 7,
   "metadata": {},
   "outputs": [
    {
     "name": "stdout",
     "output_type": "stream",
     "text": [
      "checking  Run 17\n",
      "run is:  Run 17\n",
      "checking  Run 18\n",
      "run is:  Run 18\n",
      "done!\n"
     ]
    }
   ],
   "source": [
    "os.chdir('C:\\\\Users\\\\HoangT04\\\\Documents\\\\deform\\\\HD_Data\\\\Sample39_Runs17to18') #change current working folder\n",
    "for run in os.listdir ('.') : # go through all the folders in the directory\n",
    "    #if not run.startswith ('Run') : continue #only go through ones that start with that date\n",
    "    print ('checking ', run) \n",
    "    (picFiles, csvfile, serial)=ckdir(run) #getting the csv file with the associated pictures\n",
    "    nd= newpd (csvfile, picFiles, run, serial) #reorganized the csv file into a new file\n",
    "    if len (nd) == 0 : continue\n",
    "    print ('run is: ', run)\n",
    "    newnd = renamePic (run, nd) #renaming the picture files in nd and in original Front,Live,Rear,Top\n",
    "    if len (newnd) ==0: continue \n",
    "    newnd.to_csv(\"{}/FullRun.csv\".format(run), index=False)\n",
    "print('done!')"
   ]
  },
  {
   "cell_type": "code",
   "execution_count": 5,
   "metadata": {},
   "outputs": [
    {
     "data": {
      "text/plain": [
       "'C:\\\\Users\\\\HoangT04\\\\Documents\\\\deform\\\\HD_codes'"
      ]
     },
     "execution_count": 5,
     "metadata": {},
     "output_type": "execute_result"
    }
   ],
   "source": [
    "pwd\n"
   ]
  },
  {
   "cell_type": "code",
   "execution_count": 6,
   "metadata": {},
   "outputs": [
    {
     "name": "stdout",
     "output_type": "stream",
     "text": [
      "done!\n"
     ]
    }
   ],
   "source": [
    "#RUN THIS FOR SPECIFIC FILES\n",
    "os.chdir('C:\\\\Users\\\\HoangT04\\\\Documents\\\\deform\\\\HD_data\\\\Sample39_RUns1to16\\\\Run 3') #change current working folder\n",
    "cwd = os.getcwd()\n",
    "(picFiles, csvfile, serial)=ckdir(cwd) #getting the csv file with the associated pictures\n",
    "nd= newpd (csvfile, picFiles, cwd, serial) #reorganized the csv file into a new file\n",
    "newnd = renamePic (cwd, nd) #renaming the picture files in nd and in original Front,Live,Rear,Top\n",
    "newnd.to_csv(\"{}/FullRun.csv\".format(cwd), index=False)\n",
    "print('done!')"
   ]
  },
  {
   "cell_type": "code",
   "execution_count": 17,
   "metadata": {
    "scrolled": true
   },
   "outputs": [
    {
     "ename": "FileNotFoundError",
     "evalue": "[WinError 2] The system cannot find the file specified: 'C:\\\\Users\\\\HoangT04\\\\Documents\\\\deform\\\\HD_data\\\\Sample 56 - Run 4'",
     "output_type": "error",
     "traceback": [
      "\u001b[1;31m---------------------------------------------------------------------------\u001b[0m",
      "\u001b[1;31mFileNotFoundError\u001b[0m                         Traceback (most recent call last)",
      "\u001b[1;32m<ipython-input-17-f828b91f4891>\u001b[0m in \u001b[0;36m<module>\u001b[1;34m()\u001b[0m\n\u001b[1;32m----> 1\u001b[1;33m \u001b[0mos\u001b[0m\u001b[1;33m.\u001b[0m\u001b[0mchdir\u001b[0m\u001b[1;33m(\u001b[0m\u001b[1;34m'C:\\\\Users\\\\HoangT04\\\\Documents\\\\deform\\\\HD_data\\\\Sample 56 - Run 4'\u001b[0m\u001b[1;33m)\u001b[0m\u001b[1;33m\u001b[0m\u001b[0m\n\u001b[0m",
      "\u001b[1;31mFileNotFoundError\u001b[0m: [WinError 2] The system cannot find the file specified: 'C:\\\\Users\\\\HoangT04\\\\Documents\\\\deform\\\\HD_data\\\\Sample 56 - Run 4'"
     ]
    }
   ],
   "source": [
    "os.chdir('C:\\\\Users\\\\HoangT04\\\\Documents\\\\deform\\\\HD_data\\\\Sample 56 - Run 4') "
   ]
  },
  {
   "cell_type": "code",
   "execution_count": 9,
   "metadata": {},
   "outputs": [
    {
     "name": "stdout",
     "output_type": "stream",
     "text": [
      "84 files in this directory\n"
     ]
    }
   ],
   "source": [
    "#Counting number of files in certain folder\n",
    "#filename= \"Q:\\\\AF R&D\\\\Users\\\\H Thuy\\\\2017.10.30_13.09.09_0_FluoroFramesMarking\"\n",
    "filename='Q:\\\\AF R&D\\\\AR&T Active Projects\\\\Hybrid localization\\\\Design\\Mechanical modeling\\\\Advisor HD\\\\3 Cams data'\n",
    "os.chdir(filename)\n",
    "count=0\n",
    "for run in os.listdir ('.') :\n",
    "    if run.startswith('Sample'):\n",
    "        count=count+1\n",
    "        \n",
    "print('{} files in this directory'.format(count))"
   ]
  },
  {
   "cell_type": "code",
   "execution_count": 11,
   "metadata": {},
   "outputs": [
    {
     "data": {
      "text/plain": [
       "5964"
      ]
     },
     "execution_count": 11,
     "metadata": {},
     "output_type": "execute_result"
    }
   ],
   "source": [
    "84*71"
   ]
  },
  {
   "cell_type": "code",
   "execution_count": null,
   "metadata": {
    "collapsed": true
   },
   "outputs": [],
   "source": []
  }
 ],
 "metadata": {
  "kernelspec": {
   "display_name": "Python 3",
   "language": "python",
   "name": "python3"
  },
  "language_info": {
   "codemirror_mode": {
    "name": "ipython",
    "version": 3
   },
   "file_extension": ".py",
   "mimetype": "text/x-python",
   "name": "python",
   "nbconvert_exporter": "python",
   "pygments_lexer": "ipython3",
   "version": "3.7.1"
  }
 },
 "nbformat": 4,
 "nbformat_minor": 2
}
