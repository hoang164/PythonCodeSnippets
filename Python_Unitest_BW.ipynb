{
 "cells": [
  {
   "cell_type": "code",
   "execution_count": 1,
   "metadata": {},
   "outputs": [],
   "source": [
    "import unittest \n",
    "from Beacon_AutoTest import *\n",
    "from pandas.util.testing import assert_frame_equal\n",
    "from Test import *\n",
    "import itertools\n",
    "import HtmlTestRunner\n",
    "import time"
   ]
  },
  {
   "cell_type": "code",
   "execution_count": 26,
   "metadata": {},
   "outputs": [
    {
     "data": {
      "text/plain": [
       "'\\nunit test list\\n1. extract param range str to dict(model_name,sim_model_info)\\n2. param_verify(error_flag,test_dataframe,model_dataframe)\\n3. usecase_verify(error_flag,test_dataframe,usecase_dataframe)\\n4. reformat_usecase_list(usecase_array)\\n5. convert_usecase_to_signal_list(usecase_dataframe,usecaselist)\\n6. append_test_sequence_to_df(test_info_dataframe,params_dict,fine_tune,model,signal_no_list)\\n7. create_simulink_input_df(test_dataframe, usecase_dataframe)\\n8. output_excel_create(test_info_dataframe, loglist_dataframe, log_filename)\\n9. create_matlab_input_list(test_info_dataframe, datalib_dataframe, model_dataframe)\\n'"
      ]
     },
     "execution_count": 26,
     "metadata": {},
     "output_type": "execute_result"
    }
   ],
   "source": [
    "\"\"\"\n",
    "unit test list\n",
    "1. extract param range str to dict(model_name,sim_model_info)\n",
    "2. param_verify(error_flag,test_dataframe,model_dataframe)\n",
    "3. usecase_verify(error_flag,test_dataframe,usecase_dataframe)\n",
    "4. reformat_usecase_list(usecase_array)\n",
    "5. convert_usecase_to_signal_list(usecase_dataframe,usecaselist)\n",
    "6. append_test_sequence_to_df(test_info_dataframe,params_dict,fine_tune,model,signal_no_list)\n",
    "7. create_simulink_input_df(test_dataframe, usecase_dataframe)\n",
    "8. output_excel_create(test_info_dataframe, loglist_dataframe, log_filename)\n",
    "9. create_matlab_input_list(test_info_dataframe, datalib_dataframe, model_dataframe)\n",
    "\"\"\""
   ]
  },
  {
   "cell_type": "code",
   "execution_count": 1,
   "metadata": {},
   "outputs": [
    {
     "ename": "NameError",
     "evalue": "name 'unittest' is not defined",
     "output_type": "error",
     "traceback": [
      "\u001b[1;31m---------------------------------------------------------------------------\u001b[0m",
      "\u001b[1;31mNameError\u001b[0m                                 Traceback (most recent call last)",
      "\u001b[1;32m<ipython-input-1-11bb90ac6d92>\u001b[0m in \u001b[0;36m<module>\u001b[1;34m\u001b[0m\n\u001b[1;32m----> 1\u001b[1;33m \u001b[1;32mclass\u001b[0m \u001b[0mTest\u001b[0m\u001b[1;33m(\u001b[0m\u001b[0munittest\u001b[0m\u001b[1;33m.\u001b[0m\u001b[0mTestCase\u001b[0m\u001b[1;33m)\u001b[0m\u001b[1;33m:\u001b[0m\u001b[1;33m\u001b[0m\u001b[1;33m\u001b[0m\u001b[0m\n\u001b[0m\u001b[0;32m      2\u001b[0m \u001b[1;33m\u001b[0m\u001b[0m\n\u001b[0;32m      3\u001b[0m     \u001b[1;33m@\u001b[0m\u001b[0mclassmethod\u001b[0m\u001b[1;33m\u001b[0m\u001b[1;33m\u001b[0m\u001b[0m\n\u001b[0;32m      4\u001b[0m     \u001b[1;32mdef\u001b[0m \u001b[0msetUpClass\u001b[0m\u001b[1;33m(\u001b[0m\u001b[0mself\u001b[0m\u001b[1;33m)\u001b[0m\u001b[1;33m:\u001b[0m\u001b[1;33m\u001b[0m\u001b[1;33m\u001b[0m\u001b[0m\n\u001b[0;32m      5\u001b[0m \u001b[1;33m\u001b[0m\u001b[0m\n",
      "\u001b[1;31mNameError\u001b[0m: name 'unittest' is not defined"
     ]
    }
   ],
   "source": [
    "class Test(unittest.TestCase):\n",
    "\n",
    "    @classmethod\n",
    "    def setUpClass(self):\n",
    "\n",
    "        self.SimModel = pd.read_excel(\"Test_SimModel.xlsx\",sheet_name=\"Model\")        \n",
    "        self.Default_Param = pd.read_excel(\"Test_SimModel.xlsx\",sheet_name=\"Default_Parameter\")\n",
    "        self.SimModel_2 = pd.read_excel(\"Test_Param.xlsx\",sheet_name=\"Model\")\n",
    "        self.Default_Param_2 = pd.read_excel(\"Test_Param.xlsx\",sheet_name=\"Default_Parameter\")\n",
    "        self.UseCase = pd.read_excel(\"RX_Data_Library.xlsx\",sheet_name=\"TestUseCase\")\n",
    "        self.DataLib = pd.read_excel(\"RX_Data_Library.xlsx\",sheet_name=\"DataLibrary\")\n",
    "    \n",
    "    ## Set up initialization each time before testing \n",
    "    def setUp(self):\n",
    "        pass\n",
    "        \n",
    "            \n",
    "    ## Tear down some operation each after finish testing\n",
    "    def tearDown(self):\n",
    "        pass\n",
    "\n",
    "    def test_extract_param_range(self):\n",
    "        \n",
    "        ## testcase 1\n",
    "        self.assertEqual(extract_param_range_str_to_dict(\"MP_test.slx\",self.SimModel),{\"SAMPLE_TIME:\":[0.0,12.0],\n",
    "                                                                        \"Threshold:\":[-float(\"inf\"),float(\"inf\")]})\n",
    "        ## testcase 2\n",
    "        with self.assertRaises(ValueError) as cm:\n",
    "            extract_param_range_str_to_dict(\"MP_test_v2.slx\",self.SimModel)\n",
    "        self.assertEqual(ValueError,cm.expected)\n",
    "    \n",
    "        ## testcase 3\n",
    "        with self.assertRaises(ValueError) as cm:\n",
    "            extract_param_range_str_to_dict(\"MP_test_v3.slx\",self.SimModel)\n",
    "        self.assertEqual(ValueError,cm.expected)\n",
    "   \n",
    "        ## testcase 4\n",
    "        ## bug\n",
    "        self.assertEqual(extract_param_range_str_to_dict(\"MP_test_v4.slx\",self.SimModel),{\"SAMPLE_TIME:\":[0.0,float(\"inf\")],\n",
    "                                                                        \"WINDOW:\":[0.0,float(\"inf\")]})\n",
    "\n",
    "        with self.assertRaises(IndexError) as cm:\n",
    "            extract_param_range_str_to_dict(\"MP_test_v5.slx\",self.SimModel)\n",
    "        self.assertEqual(IndexError,cm.expected)\n",
    "    \n",
    "    def test_reformat_usecase_list(self):\n",
    "        \n",
    "        ## testcase 1\n",
    "        self.assertEqual(reformat_usecase_list(\"Lib1: (1,2,3);Lib2: (4,5)\"),\"1,2,3,4,5\")\n",
    "        \n",
    "        ## testcase 2\n",
    "        self.assertRaises(ValueError,reformat_usecase_list,\"Lib1: (1,2,3);\")\n",
    "        \n",
    "        ## testcase 3\n",
    "        self.assertRaises(ValueError,reformat_usecase_list,\"Lib1:(1,2,3)\")\n",
    "        \n",
    "        ## testcase 4\n",
    "        self.assertRaises(ValueError,reformat_usecase_list,\"Lib1: (1,2,3),Lib2: (5)\")\n",
    "        \n",
    "        \n",
    "    def test_param_verify(self):\n",
    "        \n",
    "        ## param checklist - \n",
    "        self.assertEqual(param_verify(0,self.Default_Param_2.iloc[[0,1]],self.SimModel_2),0)\n",
    "        ## bug \n",
    "        self.assertEqual(param_verify(0,self.Default_Param_2.iloc[[2]],self.SimModel_2),1)\n",
    "        self.assertEqual(param_verify(0,self.Default_Param_2.iloc[[3]],self.SimModel_2),1)\n",
    "        self.assertEqual(param_verify(0,self.Default_Param_2.iloc[[6]],self.SimModel_2),1)\n",
    "        self.assertEqual(param_verify(0,self.Default_Param_2.iloc[[7]],self.SimModel_2),1)\n",
    "        self.assertEqual(param_verify(0,self.Default_Param_2.iloc[[5,8]],self.SimModel_2),1)\n",
    "        \n",
    "    \n",
    "    def test_usecase_verify(self):\n",
    "        \n",
    "        self.assertRaises(ValueError,usecase_verify,0,self.Default_Param_2.iloc[[4]],self.UseCase)\n",
    "        self.assertEqual(usecase_verify(0,self.Default_Param_2.iloc[[5]],self.UseCase),1)\n",
    "        self.assertEqual(usecase_verify(0,self.Default_Param_2.iloc[[1,3]],self.UseCase),1)\n",
    "        \n",
    "        \n",
    "    def test_convert_usecase_to_signal_list(self):\n",
    "        \n",
    "        self.assertEqual(convert_usecase_to_signal_list(self.UseCase,str(self.Default_Param_2.iloc[0][\"UseCases\"]).split(\",\")),[115,123,179])\n",
    "        self.assertEqual(convert_usecase_to_signal_list(self.UseCase,str(self.Default_Param_2.iloc[1][\"UseCases\"]).split(\",\")),[115,123,179,3324,3334,3344])\n",
    "        \n",
    "    \n",
    "    def test_append_test_sequence_to_df(self):\n",
    "        \n",
    "\n",
    "        test_info_dataframe =  pd.DataFrame({'Model_Parameters': None, 'Model_No': None, 'SignalSet': None}, index=range(0, 1))\n",
    "        expect_dataframe =  pd.DataFrame({'Model_Parameters': None, 'Model_No': None, 'SignalSet': None}, index=range(0, 1))\n",
    "        params_dict = {\"SAMPLE_TIME:\": 1,\"Threshold:\": [1,2]}\n",
    "        fine_tune = \"Threshold:\"\n",
    "        _model = \"MP_test.slx\"\n",
    "        signal_no_list = [115,123,179]\n",
    "        params_dict_list = []\n",
    "        for item in params_dict[fine_tune]:\n",
    "            temp = \"\"\n",
    "            for _key in params_dict:\n",
    "                if _key==fine_tune:\n",
    "                    temp+=(str(_key[:-1])+\": \"+str(item)+\",\")\n",
    "                else:\n",
    "                    temp+=(str(_key[:-1])+\": \"+str(params_dict[_key])+\",\")\n",
    "            temp = temp[:-1]\n",
    "            params_dict_list.append(temp)   \n",
    "        \n",
    "        comb = [params_dict_list,[_model],signal_no_list]        \n",
    "        data = list(itertools.product(*comb))\n",
    "        expect_dataframe= pd.DataFrame(data,columns=['Model_Parameters','Model_No','SignalSet'],index=list(range(1,len(data)+1,1)))        \n",
    "\n",
    "        test_info_dataframe = append_test_sequence_to_df(test_info_dataframe,params_dict,fine_tune,_model,signal_no_list)\n",
    "        test_info_dataframe.reset_index(drop=True,inplace=True)\n",
    "        test_info_dataframe = test_info_dataframe.drop([0])\n",
    "        test_info_dataframe[\"SignalSet\"] = test_info_dataframe[\"SignalSet\"].astype('int64')\n",
    "\n",
    "        assert_frame_equal(test_info_dataframe,expect_dataframe)\n",
    "        \n",
    "        \n",
    "        \n",
    "    \n",
    "    def test_create_simulink_input_df(self):\n",
    "        \n",
    "        test_info_dataframe = pd.DataFrame({'Model_Parameters': None, 'Model_No': None, 'SignalSet': None}, index=range(0, 1))\n",
    "        expect_dataframe =  pd.DataFrame({'Model_Parameters': None, 'Model_No': None, 'SignalSet': None}, index=range(0, 1))\n",
    "        params_dict = {\"SAMPLE_TIME:\": 1.0,\"Threshold:\": [1.0,2.0]}\n",
    "        fine_tune = \"Threshold:\"\n",
    "        _model = \"MP_test.slx\"\n",
    "        signal_no_list = [115,123,179]\n",
    "        params_dict_list = []\n",
    "        for item in params_dict[fine_tune]:\n",
    "            temp = \"\"\n",
    "            for _key in params_dict:\n",
    "                if _key==fine_tune:\n",
    "                    temp+=(str(_key[:-1])+\": \"+str(item)+\",\")\n",
    "                else:\n",
    "                    temp+=(str(_key[:-1])+\": \"+str(params_dict[_key])+\",\")\n",
    "            temp = temp[:-1]\n",
    "            params_dict_list.append(temp)   \n",
    "        \n",
    "        comb = [params_dict_list,[_model],signal_no_list]        \n",
    "        data = list(itertools.product(*comb))\n",
    "        expect_dataframe= pd.DataFrame(data,columns=['Model_Parameters','Model_No','SignalSet'],\n",
    "                                       index=list(range(1,len(data)+1,1)))        \n",
    "\n",
    "        \n",
    "        ## create dataframe for testbench\n",
    "        test_info_dataframe = create_simulink_input_df(self.Default_Param_2.iloc[[9]],self.UseCase)\n",
    "        test_info_dataframe[\"SignalSet\"] = test_info_dataframe[\"SignalSet\"].astype('int64')\n",
    "        assert_frame_equal(test_info_dataframe,expect_dataframe)\n",
    "    \n",
    "    def test_create_matlab_input_list(self):\n",
    "        \n",
    "        current_time = time.strftime(\"%Y-%m-%d-%H-%M\") \n",
    "        foldername = \"'\"+\"Log_\"+current_time+\"'\"\n",
    "        test_info_dataframe = pd.DataFrame({'Model_Parameters': None, 'Model_No': None, 'SignalSet': None}, index=range(0, 1))\n",
    "        entry_testcase = [[\"'Depth_2cm_Location_0mm_Angle_45.mat'\",\"'SAMPLE_TIME: 1.0,Threshold: 1.0'\",\n",
    "                            \"'0'\",\"'MP_test.slx'\",foldername,\"'/home/ai1/beacon/Beacon_Datalibrary/RX_WithUltrasoundMachines/TissueTest/SonoSite/PGE2a605_0.6mm_day1'\",\n",
    "                            \"'/media/ai1/data/beacon/bosheng/algorithmSL'\",\"'MP_test_init.m'\",\"'115'\"]]\n",
    "        test_info_dataframe = create_simulink_input_df(self.Default_Param_2.iloc[[9]],self.UseCase)\n",
    "        print(test_info_dataframe)\n",
    "        entry_output = create_matlab_input_list(test_info_dataframe.iloc[[0]],self.DataLib,self.SimModel_2)\n",
    "        self.assertEqual(entry_output,entry_testcase)\n",
    "        \n",
    "           "
   ]
  },
  {
   "cell_type": "code",
   "execution_count": 117,
   "metadata": {},
   "outputs": [
    {
     "name": "stderr",
     "output_type": "stream",
     "text": [
      "\n",
      "Running tests... \n",
      "----------------------------------------------------------------------\n",
      " test_append_test_sequence_to_df (__main__.Test) ... OK (0.016006)s\n",
      " test_convert_usecase_to_signal_list (__main__.Test) ... OK (0.002002)s\n",
      " test_create_matlab_input_list (__main__.Test) ... OK (0.012957)s\n",
      " test_create_simulink_input_df (__main__.Test) ... OK (0.013000)s\n",
      " test_extract_param_range (__main__.Test) ... FAIL (0.003001)s\n",
      " test_param_verify (__main__.Test) ... FAIL (0.002999)s\n",
      " test_reformat_usecase_list (__main__.Test) ... OK (0.000000)s\n",
      " test_usecase_verify (__main__.Test) ... OK (0.001002)s\n",
      "\n",
      "======================================================================\n",
      "FAIL [0.003001s]: __main__.Test.test_extract_param_range\n",
      "----------------------------------------------------------------------\n",
      "Traceback (most recent call last):\n",
      "  File \"<ipython-input-116-0f95c4103490>\", line 40, in test_extract_param_range\n",
      "    \"WINDOW:\":[0.0,float(\"inf\")]})\n",
      "AssertionError: {'SAMPLE_TIME:': [inf, 0.0], 'WINDOW:': [0.0, inf]} != {'SAMPLE_TIME:': [0.0, inf], 'WINDOW:': [0.0, inf]}\n",
      "- {'SAMPLE_TIME:': [inf, 0.0], 'WINDOW:': [0.0, inf]}\n",
      "?                      -----\n",
      "\n",
      "+ {'SAMPLE_TIME:': [0.0, inf], 'WINDOW:': [0.0, inf]}\n",
      "?                   +++++\n",
      "\n",
      "\n",
      "======================================================================\n",
      "FAIL [0.002999s]: __main__.Test.test_param_verify\n",
      "----------------------------------------------------------------------\n",
      "Traceback (most recent call last):\n",
      "  File \"<ipython-input-116-0f95c4103490>\", line 66, in test_param_verify\n",
      "    self.assertEqual(param_verify(0,self.Default_Param_2.iloc[[2]],self.SimModel_2),1)\n",
      "AssertionError: 0 != 1\n",
      "\n",
      "----------------------------------------------------------------------\n",
      "Ran 8 tests in 0:00:10\n",
      "\n",
      "FAILED\n",
      " (Failures=2)\n",
      "\n",
      "Generating HTML reports... \n",
      "TestResults___main__.Test_2019-06-11_10-36-06.html\n"
     ]
    }
   ],
   "source": [
    "if __name__ == \"__main__\":\n",
    "    ## when you run this in Jupyter Notebook\n",
    "    unittest.main(argv=['first-arg-is-ignored'], exit=False,testRunner=HtmlTestRunner.HTMLTestRunner(output='C:\\\\Users\\\\900309\\\\ToDo 6-3-2019'))\n",
    "    \n",
    "    ## when you run in IDE\n",
    "#     unittest.main()"
   ]
  },
  {
   "cell_type": "code",
   "execution_count": 66,
   "metadata": {},
   "outputs": [],
   "source": [
    "a = {\"Sam\":1,\"Tom\":[1,2],\"Sol\":[1,2,3]}"
   ]
  },
  {
   "cell_type": "code",
   "execution_count": 67,
   "metadata": {},
   "outputs": [],
   "source": [
    "key,value = zip(*a.items()) ##equal to unzip"
   ]
  },
  {
   "cell_type": "code",
   "execution_count": 55,
   "metadata": {},
   "outputs": [
    {
     "name": "stdout",
     "output_type": "stream",
     "text": [
      "{'Sam': 1, 'Tom': 1}\n",
      "{'Sam': 1, 'Tom': 2}\n"
     ]
    }
   ],
   "source": [
    "for i in itertools.product(*value):\n",
    "    print(dict(zip(key,i)))"
   ]
  },
  {
   "cell_type": "code",
   "execution_count": 62,
   "metadata": {},
   "outputs": [
    {
     "data": {
      "text/plain": [
       "{'Sam': [1], 'Tom': [1, 2], 'Sol': [1, 2, 3]}"
      ]
     },
     "execution_count": 62,
     "metadata": {},
     "output_type": "execute_result"
    }
   ],
   "source": [
    "dict(zip(key,value))"
   ]
  },
  {
   "cell_type": "code",
   "execution_count": 69,
   "metadata": {},
   "outputs": [
    {
     "ename": "AttributeError",
     "evalue": "'tuple' object has no attribute 'map'",
     "output_type": "error",
     "traceback": [
      "\u001b[1;31m---------------------------------------------------------------------------\u001b[0m",
      "\u001b[1;31mAttributeError\u001b[0m                            Traceback (most recent call last)",
      "\u001b[1;32m<ipython-input-69-5e76dc3034f0>\u001b[0m in \u001b[0;36m<module>\u001b[1;34m\u001b[0m\n\u001b[1;32m----> 1\u001b[1;33m \u001b[0mvalue\u001b[0m\u001b[1;33m.\u001b[0m\u001b[0mmap\u001b[0m\u001b[1;33m(\u001b[0m\u001b[0mlist\u001b[0m\u001b[1;33m(\u001b[0m\u001b[1;33m)\u001b[0m\u001b[1;33m)\u001b[0m\u001b[1;33m\u001b[0m\u001b[1;33m\u001b[0m\u001b[0m\n\u001b[0m",
      "\u001b[1;31mAttributeError\u001b[0m: 'tuple' object has no attribute 'map'"
     ]
    }
   ],
   "source": [
    "value.map()"
   ]
  },
  {
   "cell_type": "code",
   "execution_count": 60,
   "metadata": {},
   "outputs": [
    {
     "data": {
      "text/plain": [
       "dict_items([('Sam', [1]), ('Tom', [1, 2]), ('Sol', [1, 2, 3])])"
      ]
     },
     "execution_count": 60,
     "metadata": {},
     "output_type": "execute_result"
    }
   ],
   "source": [
    "*a.items()"
   ]
  },
  {
   "cell_type": "code",
   "execution_count": 64,
   "metadata": {},
   "outputs": [
    {
     "ename": "TypeError",
     "evalue": "<module 'builtins' (built-in)> is a built-in class",
     "output_type": "error",
     "traceback": [
      "\u001b[1;31m---------------------------------------------------------------------------\u001b[0m",
      "\u001b[1;31mTypeError\u001b[0m                                 Traceback (most recent call last)",
      "\u001b[1;32m<ipython-input-64-3f5d2d569237>\u001b[0m in \u001b[0;36m<module>\u001b[1;34m\u001b[0m\n\u001b[0;32m      1\u001b[0m \u001b[1;32mimport\u001b[0m \u001b[0minspect\u001b[0m\u001b[1;33m\u001b[0m\u001b[1;33m\u001b[0m\u001b[0m\n\u001b[1;32m----> 2\u001b[1;33m \u001b[0mlins\u001b[0m \u001b[1;33m=\u001b[0m \u001b[0minspect\u001b[0m\u001b[1;33m.\u001b[0m\u001b[0mgetsource\u001b[0m\u001b[1;33m(\u001b[0m\u001b[0mzip\u001b[0m\u001b[1;33m)\u001b[0m\u001b[1;33m\u001b[0m\u001b[1;33m\u001b[0m\u001b[0m\n\u001b[0m",
      "\u001b[1;32m~\\AppData\\Local\\Continuum\\anaconda3\\lib\\inspect.py\u001b[0m in \u001b[0;36mgetsource\u001b[1;34m(object)\u001b[0m\n\u001b[0;32m    971\u001b[0m     \u001b[1;32mor\u001b[0m \u001b[0mcode\u001b[0m \u001b[0mobject\u001b[0m\u001b[1;33m.\u001b[0m  \u001b[0mThe\u001b[0m \u001b[0msource\u001b[0m \u001b[0mcode\u001b[0m \u001b[1;32mis\u001b[0m \u001b[0mreturned\u001b[0m \u001b[1;32mas\u001b[0m \u001b[0ma\u001b[0m \u001b[0msingle\u001b[0m \u001b[0mstring\u001b[0m\u001b[1;33m.\u001b[0m  \u001b[0mAn\u001b[0m\u001b[1;33m\u001b[0m\u001b[1;33m\u001b[0m\u001b[0m\n\u001b[0;32m    972\u001b[0m     OSError is raised if the source code cannot be retrieved.\"\"\"\n\u001b[1;32m--> 973\u001b[1;33m     \u001b[0mlines\u001b[0m\u001b[1;33m,\u001b[0m \u001b[0mlnum\u001b[0m \u001b[1;33m=\u001b[0m \u001b[0mgetsourcelines\u001b[0m\u001b[1;33m(\u001b[0m\u001b[0mobject\u001b[0m\u001b[1;33m)\u001b[0m\u001b[1;33m\u001b[0m\u001b[1;33m\u001b[0m\u001b[0m\n\u001b[0m\u001b[0;32m    974\u001b[0m     \u001b[1;32mreturn\u001b[0m \u001b[1;34m''\u001b[0m\u001b[1;33m.\u001b[0m\u001b[0mjoin\u001b[0m\u001b[1;33m(\u001b[0m\u001b[0mlines\u001b[0m\u001b[1;33m)\u001b[0m\u001b[1;33m\u001b[0m\u001b[1;33m\u001b[0m\u001b[0m\n\u001b[0;32m    975\u001b[0m \u001b[1;33m\u001b[0m\u001b[0m\n",
      "\u001b[1;32m~\\AppData\\Local\\Continuum\\anaconda3\\lib\\inspect.py\u001b[0m in \u001b[0;36mgetsourcelines\u001b[1;34m(object)\u001b[0m\n\u001b[0;32m    953\u001b[0m     raised if the source code cannot be retrieved.\"\"\"\n\u001b[0;32m    954\u001b[0m     \u001b[0mobject\u001b[0m \u001b[1;33m=\u001b[0m \u001b[0munwrap\u001b[0m\u001b[1;33m(\u001b[0m\u001b[0mobject\u001b[0m\u001b[1;33m)\u001b[0m\u001b[1;33m\u001b[0m\u001b[1;33m\u001b[0m\u001b[0m\n\u001b[1;32m--> 955\u001b[1;33m     \u001b[0mlines\u001b[0m\u001b[1;33m,\u001b[0m \u001b[0mlnum\u001b[0m \u001b[1;33m=\u001b[0m \u001b[0mfindsource\u001b[0m\u001b[1;33m(\u001b[0m\u001b[0mobject\u001b[0m\u001b[1;33m)\u001b[0m\u001b[1;33m\u001b[0m\u001b[1;33m\u001b[0m\u001b[0m\n\u001b[0m\u001b[0;32m    956\u001b[0m \u001b[1;33m\u001b[0m\u001b[0m\n\u001b[0;32m    957\u001b[0m     \u001b[1;32mif\u001b[0m \u001b[0mistraceback\u001b[0m\u001b[1;33m(\u001b[0m\u001b[0mobject\u001b[0m\u001b[1;33m)\u001b[0m\u001b[1;33m:\u001b[0m\u001b[1;33m\u001b[0m\u001b[1;33m\u001b[0m\u001b[0m\n",
      "\u001b[1;32m~\\AppData\\Local\\Continuum\\anaconda3\\lib\\inspect.py\u001b[0m in \u001b[0;36mfindsource\u001b[1;34m(object)\u001b[0m\n\u001b[0;32m    766\u001b[0m     is raised if the source code cannot be retrieved.\"\"\"\n\u001b[0;32m    767\u001b[0m \u001b[1;33m\u001b[0m\u001b[0m\n\u001b[1;32m--> 768\u001b[1;33m     \u001b[0mfile\u001b[0m \u001b[1;33m=\u001b[0m \u001b[0mgetsourcefile\u001b[0m\u001b[1;33m(\u001b[0m\u001b[0mobject\u001b[0m\u001b[1;33m)\u001b[0m\u001b[1;33m\u001b[0m\u001b[1;33m\u001b[0m\u001b[0m\n\u001b[0m\u001b[0;32m    769\u001b[0m     \u001b[1;32mif\u001b[0m \u001b[0mfile\u001b[0m\u001b[1;33m:\u001b[0m\u001b[1;33m\u001b[0m\u001b[1;33m\u001b[0m\u001b[0m\n\u001b[0;32m    770\u001b[0m         \u001b[1;31m# Invalidate cache if needed.\u001b[0m\u001b[1;33m\u001b[0m\u001b[1;33m\u001b[0m\u001b[1;33m\u001b[0m\u001b[0m\n",
      "\u001b[1;32m~\\AppData\\Local\\Continuum\\anaconda3\\lib\\inspect.py\u001b[0m in \u001b[0;36mgetsourcefile\u001b[1;34m(object)\u001b[0m\n\u001b[0;32m    682\u001b[0m     \u001b[0mReturn\u001b[0m \u001b[1;32mNone\u001b[0m \u001b[1;32mif\u001b[0m \u001b[0mno\u001b[0m \u001b[0mway\u001b[0m \u001b[0mcan\u001b[0m \u001b[0mbe\u001b[0m \u001b[0midentified\u001b[0m \u001b[0mto\u001b[0m \u001b[0mget\u001b[0m \u001b[0mthe\u001b[0m \u001b[0msource\u001b[0m\u001b[1;33m.\u001b[0m\u001b[1;33m\u001b[0m\u001b[1;33m\u001b[0m\u001b[0m\n\u001b[0;32m    683\u001b[0m     \"\"\"\n\u001b[1;32m--> 684\u001b[1;33m     \u001b[0mfilename\u001b[0m \u001b[1;33m=\u001b[0m \u001b[0mgetfile\u001b[0m\u001b[1;33m(\u001b[0m\u001b[0mobject\u001b[0m\u001b[1;33m)\u001b[0m\u001b[1;33m\u001b[0m\u001b[1;33m\u001b[0m\u001b[0m\n\u001b[0m\u001b[0;32m    685\u001b[0m     \u001b[0mall_bytecode_suffixes\u001b[0m \u001b[1;33m=\u001b[0m \u001b[0mimportlib\u001b[0m\u001b[1;33m.\u001b[0m\u001b[0mmachinery\u001b[0m\u001b[1;33m.\u001b[0m\u001b[0mDEBUG_BYTECODE_SUFFIXES\u001b[0m\u001b[1;33m[\u001b[0m\u001b[1;33m:\u001b[0m\u001b[1;33m]\u001b[0m\u001b[1;33m\u001b[0m\u001b[1;33m\u001b[0m\u001b[0m\n\u001b[0;32m    686\u001b[0m     \u001b[0mall_bytecode_suffixes\u001b[0m \u001b[1;33m+=\u001b[0m \u001b[0mimportlib\u001b[0m\u001b[1;33m.\u001b[0m\u001b[0mmachinery\u001b[0m\u001b[1;33m.\u001b[0m\u001b[0mOPTIMIZED_BYTECODE_SUFFIXES\u001b[0m\u001b[1;33m[\u001b[0m\u001b[1;33m:\u001b[0m\u001b[1;33m]\u001b[0m\u001b[1;33m\u001b[0m\u001b[1;33m\u001b[0m\u001b[0m\n",
      "\u001b[1;32m~\\AppData\\Local\\Continuum\\anaconda3\\lib\\inspect.py\u001b[0m in \u001b[0;36mgetfile\u001b[1;34m(object)\u001b[0m\n\u001b[0;32m    651\u001b[0m             \u001b[1;32mif\u001b[0m \u001b[0mgetattr\u001b[0m\u001b[1;33m(\u001b[0m\u001b[0mobject\u001b[0m\u001b[1;33m,\u001b[0m \u001b[1;34m'__file__'\u001b[0m\u001b[1;33m,\u001b[0m \u001b[1;32mNone\u001b[0m\u001b[1;33m)\u001b[0m\u001b[1;33m:\u001b[0m\u001b[1;33m\u001b[0m\u001b[1;33m\u001b[0m\u001b[0m\n\u001b[0;32m    652\u001b[0m                 \u001b[1;32mreturn\u001b[0m \u001b[0mobject\u001b[0m\u001b[1;33m.\u001b[0m\u001b[0m__file__\u001b[0m\u001b[1;33m\u001b[0m\u001b[1;33m\u001b[0m\u001b[0m\n\u001b[1;32m--> 653\u001b[1;33m         \u001b[1;32mraise\u001b[0m \u001b[0mTypeError\u001b[0m\u001b[1;33m(\u001b[0m\u001b[1;34m'{!r} is a built-in class'\u001b[0m\u001b[1;33m.\u001b[0m\u001b[0mformat\u001b[0m\u001b[1;33m(\u001b[0m\u001b[0mobject\u001b[0m\u001b[1;33m)\u001b[0m\u001b[1;33m)\u001b[0m\u001b[1;33m\u001b[0m\u001b[1;33m\u001b[0m\u001b[0m\n\u001b[0m\u001b[0;32m    654\u001b[0m     \u001b[1;32mif\u001b[0m \u001b[0mismethod\u001b[0m\u001b[1;33m(\u001b[0m\u001b[0mobject\u001b[0m\u001b[1;33m)\u001b[0m\u001b[1;33m:\u001b[0m\u001b[1;33m\u001b[0m\u001b[1;33m\u001b[0m\u001b[0m\n\u001b[0;32m    655\u001b[0m         \u001b[0mobject\u001b[0m \u001b[1;33m=\u001b[0m \u001b[0mobject\u001b[0m\u001b[1;33m.\u001b[0m\u001b[0m__func__\u001b[0m\u001b[1;33m\u001b[0m\u001b[1;33m\u001b[0m\u001b[0m\n",
      "\u001b[1;31mTypeError\u001b[0m: <module 'builtins' (built-in)> is a built-in class"
     ]
    }
   ],
   "source": [
    "import inspect\n",
    "lins = inspect.getsource(zip)"
   ]
  },
  {
   "cell_type": "code",
   "execution_count": null,
   "metadata": {},
   "outputs": [],
   "source": []
  }
 ],
 "metadata": {
  "kernelspec": {
   "display_name": "Python 3",
   "language": "python",
   "name": "python3"
  },
  "language_info": {
   "codemirror_mode": {
    "name": "ipython",
    "version": 3
   },
   "file_extension": ".py",
   "mimetype": "text/x-python",
   "name": "python",
   "nbconvert_exporter": "python",
   "pygments_lexer": "ipython3",
   "version": "3.7.1"
  }
 },
 "nbformat": 4,
 "nbformat_minor": 2
}
