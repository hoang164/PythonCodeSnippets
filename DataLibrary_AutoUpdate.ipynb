{
 "cells": [
  {
   "cell_type": "markdown",
   "metadata": {},
   "source": [
    "## Add New Data to the big DataLibrary and update information in Summary sheet\n",
    "\n",
    "### extract data from an excel file and create a new data frame with information\n",
    "\n",
    "    Parameters to change: \n",
    "    1) newdata_path= path to the folder where the new data is at\n",
    "    2) library_filename = 'RX_Data_Library.xlsx' # big data library \n",
    "    3) data_filename= 'position.xlsx'  # new data excel info\n",
    "    4) lib_name= 'Lib6'  # library name to assign the new data to or name of existing library\n",
    "    5) study_date = \n",
    "    \n",
    "    "
   ]
  },
  {
   "cell_type": "code",
   "execution_count": 18,
   "metadata": {},
   "outputs": [],
   "source": [
    "import pandas as pd\n",
    "from openpyxl import load_workbook\n",
    "import os \n",
    "from pathlib import Path\n",
    "\n",
    "def getData(newdata_path, linuxPath, DataLib_filename, data_filename, lib_name, sampleNum):\n",
    "    \"\"\"\n",
    "    This function extract data information from an excel file and reformat the information into a data frame.\n",
    "    \n",
    "    The new data frame will have the same column headings as the big Data Library.\n",
    "    \"\"\"\n",
    "    # asumming data are all in 1 folder:\n",
    "    DataLibrary_df= pd.read_excel(DataLib_filename, sheet_name= 'DataLibrary')  # big data file\n",
    "    newRowNum= DataLibrary_df.shape[0] +1  # starting Row Number of new data\n",
    "\n",
    "    olddata_path= os.path.join(newdata_path, data_filename)\n",
    "    olddata_df= pd.read_excel(olddata_path,sheet_name='scan_position_tag') # info from 3D scan\n",
    "    newdata_df= pd.DataFrame(columns=DataLibrary_df.columns)\n",
    "\n",
    "    newdata_df['filename']= olddata_df['filename']\n",
    "    newdata_df['Axis0']= olddata_df['Axis0']\n",
    "    newdata_df['Axis1']= olddata_df['Axis1']\n",
    "    newdata_df['Axis2']= olddata_df['Axis2']\n",
    "    newdata_df['Axis3']= olddata_df['Axis3']\n",
    "    newdata_df['Axis4']= olddata_df['Axis4']\n",
    "    newdata_df['LibraryName']= lib_name\n",
    "    \n",
    "    for row in range(olddata_df.shape[0]):\n",
    "        newdata_df.loc[row, 'Row'] = row+ newRowNum\n",
    "        #linuxPath= '/home/ai1/beacon/3D_Position_Data_Bosheng/3D_eZono_PGE2A1234_300ms'\n",
    "        newdata_df.loc[row, 'Folder_abspath'] = linuxPath\n",
    "\n",
    "    scaninfo_df= pd.read_excel(olddata_path,sheet_name='scan_info')\n",
    "\n",
    "    newdata_df['US_machine']= scaninfo_df.iloc[0,1]\n",
    "    newdata_df['NeedleID']= scaninfo_df.iloc[2,1]\n",
    "    if scaninfo_df.iloc[2,1]== 'PGE2A616': \n",
    "        transLen= 0.6\n",
    "    else: transLen= 1\n",
    "    \n",
    "    # other info for user to set:\n",
    "    newdata_df['StudyName']= 'RX_3D_WaterTank'\n",
    "    newdata_df['Owner']= 'Bosheng Wu'\n",
    "    newdata_df['Medium']= 'Water'\n",
    "    newdata_df['AutomaticTankTest'] = 'Y'\n",
    "    newdata_df['TransducerLength_mm']= transLen\n",
    "    newdata_df['PicoSeries']=5000\n",
    "    newdata_df['SamplingRate_MSps']= 125\n",
    "    newdata_df['SampleInterval_ns']= 16\n",
    "    newdata_df['GainSetting_dB']= 10\n",
    "    newdata_df['TestType']= 'Receiving Test'\n",
    "    newdata_df['NeedleType']= 'PZT'\n",
    "    newdata_df['DataFolderName']= os.path.split(newdata_path)[1]\n",
    "    newdata_df['SampleNum'] = sampleNum #2500000 #18750000\n",
    "    \n",
    "    return newdata_df"
   ]
  },
  {
   "cell_type": "markdown",
   "metadata": {},
   "source": [
    "## Main code for adding new data into the data library 1 at a time"
   ]
  },
  {
   "cell_type": "code",
   "execution_count": 12,
   "metadata": {},
   "outputs": [
    {
     "name": "stdout",
     "output_type": "stream",
     "text": [
      "Lib7 is created. New data will be added to Lib7.\n",
      "Appending data onto DataLibrary sheet...\n",
      "Done!\n"
     ]
    }
   ],
   "source": [
    "# for user to set:\n",
    "\n",
    "newdata_path= Path('Y:/Beacon_Datalibrary/RX_3D_WaterTank/3D_GE_PGE2A616_400ms') \n",
    "linuxPath= Path('/home/ai1/beacon/3D_Position_Data_Bosheng/3D_GE_PGE2A616_400ms')\n",
    "library_filename = 'RX_Data_Library.xlsx' # change this\n",
    "data_filename= 'position.xlsx'  # change this\n",
    "lib_name= 'Lib7'  # change this\n",
    "study_date = '5/10/2019' # change this\n",
    "\n",
    "# STEP 1: GO TO DATA AND EXTRACT RELEVANT INFO TO CREATE A NEW DF\n",
    "\n",
    "# check if addtosheet is new or already exist\n",
    "summary_df= pd.read_excel(library_filename, sheet_name='Summary')\n",
    "lib_avail= summary_df['LibraryName'].unique()\n",
    "if lib_name in lib_avail:\n",
    "    print('{s} already exist, new data will be appended onto {s}.'.format(s=lib_name)) \n",
    "else:\n",
    "    print('{s} is created. New data will be added to {s}.'.format(s=lib_name))\n",
    "# create new data frame\n",
    "newdata_df= getData(newdata_path, linuxPath, library_filename, data_filename, lib_name)\n",
    "\n",
    "newdata_df\n",
    "\n",
    "# STEP 2: UPLOAD ONTO DATA LIBRARY SHEET\n",
    "print('Appending data onto DataLibrary sheet...')\n",
    "book = load_workbook(library_filename) # open excel workbook\n",
    "sheets= book.sheetnames \n",
    "ws= book[sheets[sheets.index('DataLibrary')]] # DataLibrary sheet\n",
    "for index, row in newdata_df.iterrows():    \n",
    "    ws.append(row.tolist()) # add new data\n",
    "\n",
    "# STEP 3: ADD ROW INFO INTO SUMMARY SHEET\n",
    "summary_row= [lib_name]\n",
    "summary_row += ['{}({} - {}dB - {})'.format(newdata_df.loc[0,'StudyName'],newdata_df.loc[0,'US_machine'],newdata_df.loc[0,'GainSetting_dB'], newdata_df.loc[0,'Medium'])]\n",
    "summary_row += [linuxPath]\n",
    "summary_row += [newdata_df.loc[0,'Owner']]\n",
    "summary_row += ['({} - {})'.format(newdata_df.loc[0,'Row'],newdata_df.iloc[-1]['Row'])]\n",
    "summary_row += [study_date]\n",
    "\n",
    "ws= book[sheets[sheets.index('Summary')]] \n",
    "ws.append(summary_row)\n",
    "book.save(library_filename)\n",
    "print('Done!')"
   ]
  },
  {
   "cell_type": "markdown",
   "metadata": {},
   "source": [
    "## Waking directory tree to add all at once\n",
    "Running this from Windows but the data Path is Linux\n",
    "\n",
    "Could change the windowRoot= linuxRoot if running this from Linux\n"
   ]
  },
  {
   "cell_type": "code",
   "execution_count": 23,
   "metadata": {},
   "outputs": [
    {
     "name": "stdout",
     "output_type": "stream",
     "text": [
      "Lib6 is created. New data will be added to Lib6.\n",
      "Appending data onto DataLibrary sheet...\n",
      "3D_eZono_PGE2A1234_300ms successfully added to  Lib6\n",
      "Lib6 already exist, new data will be appended onto Lib6.\n",
      "Appending data onto DataLibrary sheet...\n",
      "3D_eZono_PGE2A616_300ms successfully added to  Lib6\n",
      "Lib7 is created. New data will be added to Lib7.\n",
      "Appending data onto DataLibrary sheet...\n",
      "3D_GE_PGE2A1234_400ms successfully added to  Lib6\n",
      "Lib7 already exist, new data will be appended onto Lib7.\n",
      "Appending data onto DataLibrary sheet...\n",
      "3D_GE_PGE2A616_400ms successfully added to  Lib6\n",
      "Lib8 is created. New data will be added to Lib8.\n",
      "Appending data onto DataLibrary sheet...\n",
      "3D_SonoSite_PGE2A1234_200ms successfully added to  Lib6\n",
      "Lib8 already exist, new data will be appended onto Lib8.\n",
      "Appending data onto DataLibrary sheet...\n",
      "3D_SonoSite_PGE2A616_200ms successfully added to  Lib6\n",
      "Lib9 is created. New data will be added to Lib9.\n",
      "Appending data onto DataLibrary sheet...\n",
      "3D_Toshiba_PGE2A1234_200ms successfully added to  Lib6\n",
      "Lib9 already exist, new data will be appended onto Lib9.\n",
      "Appending data onto DataLibrary sheet...\n",
      "3D_Toshiba_PGE2A616_200ms successfully added to  Lib6\n"
     ]
    }
   ],
   "source": [
    "linuxRoot= Path('/home/ai1/beacon/3D_Position_Data_Bosheng')\n",
    "windowRoot= Path('Y:/Beacon_Datalibrary/RX_3D_WaterTank')\n",
    "lib= ['Lib6', 'Lib6', 'Lib7', 'Lib7', 'Lib8', 'Lib8', 'Lib9', 'Lib9']  # library names to assign to data from each folder\n",
    "library_filename = 'RX_Data_Library.xlsx' \n",
    "sampleCalc= [18750000, 18750000, 25000000, 25000000, 12500000, 12500000,12500000,12500000]\n",
    "study_date = '5/10/2019'\n",
    "data_filename= 'position.xlsx'\n",
    "\n",
    "folderCount=0\n",
    "for root, dir, files in os.walk(windowRoot):\n",
    "    folderName= root.split(\"\\\\\")[-1]\n",
    "    if not folderName.startswith('3D'): continue  # skip unwanted folders\n",
    "        \n",
    "    linuxPath= os.path.join(linuxRoot, folderName)\n",
    "    newdata_path= os.path.join(windowRoot, folderName)\n",
    "    lib_name= lib[folderCount]\n",
    "    sampleNum= sampleCalc[folderCount]\n",
    "    folderCount+= 1\n",
    "    \n",
    "    # STEP 1: GO TO DATA AND EXTRACT RELEVANT INFO TO CREATE A NEW DF\n",
    "\n",
    "    # check if addtosheet is new or already exist\n",
    "    summary_df= pd.read_excel(library_filename, sheet_name='Summary')\n",
    "    lib_avail= summary_df['LibraryName'].unique()\n",
    "    if lib_name in lib_avail:\n",
    "        print('{s} already exist, new data will be appended onto {s}.'.format(s=lib_name)) \n",
    "    else:\n",
    "        print('{s} is created. New data will be added to {s}.'.format(s=lib_name))\n",
    "    # create new data frame\n",
    "    newdata_df= getData(newdata_path, linuxPath, library_filename, data_filename, lib_name, sampleNum)\n",
    "\n",
    "    newdata_df\n",
    "\n",
    "    # STEP 2: UPLOAD ONTO DATA LIBRARY SHEET\n",
    "    print('Appending data onto DataLibrary sheet...')\n",
    "    book = load_workbook(library_filename) # open excel workbook\n",
    "    sheets= book.sheetnames \n",
    "    ws= book[sheets[sheets.index('DataLibrary')]] # DataLibrary sheet\n",
    "    for index, row in newdata_df.iterrows():    \n",
    "        ws.append(row.tolist()) # add new data\n",
    "\n",
    "    # STEP 3: ADD ROW INFO INTO SUMMARY SHEET\n",
    "    summary_row= [lib_name]\n",
    "    summary_row += ['{}({} - {}dB - {})'.format(newdata_df.loc[0,'StudyName'],newdata_df.loc[0,'US_machine'],newdata_df.loc[0,'GainSetting_dB'], newdata_df.loc[0,'Medium'])]\n",
    "    summary_row += [linuxPath]\n",
    "    summary_row += [newdata_df.loc[0,'Owner']]\n",
    "    summary_row += ['({} - {})'.format(newdata_df.loc[0,'Row'],newdata_df.iloc[-1]['Row'])]\n",
    "    summary_row += [study_date]\n",
    "\n",
    "    ws= book[sheets[sheets.index('Summary')]] \n",
    "    ws.append(summary_row)\n",
    "    book.save(library_filename)\n",
    "    \n",
    "    print(folderName, 'successfully added to ', lib_name)"
   ]
  },
  {
   "cell_type": "code",
   "execution_count": 22,
   "metadata": {},
   "outputs": [
    {
     "name": "stdout",
     "output_type": "stream",
     "text": [
      "3D_eZono_PGE2A1234_300ms successfully added to  Lib6\n"
     ]
    }
   ],
   "source": [
    "\n",
    "print(folderName, 'successfully added to ', lib_name)"
   ]
  },
  {
   "cell_type": "code",
   "execution_count": null,
   "metadata": {},
   "outputs": [],
   "source": []
  }
 ],
 "metadata": {
  "kernelspec": {
   "display_name": "Python 3",
   "language": "python",
   "name": "python3"
  },
  "language_info": {
   "codemirror_mode": {
    "name": "ipython",
    "version": 3
   },
   "file_extension": ".py",
   "mimetype": "text/x-python",
   "name": "python",
   "nbconvert_exporter": "python",
   "pygments_lexer": "ipython3",
   "version": "3.7.1"
  }
 },
 "nbformat": 4,
 "nbformat_minor": 2
}
